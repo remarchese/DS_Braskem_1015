{
 "cells": [
  {
   "cell_type": "markdown",
   "id": "e2439ad0",
   "metadata": {},
   "source": [
    "# Probabilidade"
   ]
  },
  {
   "cell_type": "markdown",
   "id": "1e7a899c",
   "metadata": {},
   "source": [
    "## Teorema de Bayes\n",
    "\n",
    "    **O Teorema de bayes diz que :**\n",
    "    \n",
    "    \n",
    "$$ P(C|+) = \\frac{P(+|C) \\ P(C)}{P(+|C) \\ P(C)  + P(+|¬ C) \\ P(¬ C)}    $$"
   ]
  },
  {
   "cell_type": "markdown",
   "id": "75837c8a",
   "metadata": {},
   "source": [
    "Para treinar:\n",
    "\n",
    "Alberto diz que pode prever o futuro das colheitas. A comunidade em que ele vive, interessadíssima nesses poderes, se mobilizou para verificar o fato. Foi averiguado que ele acerta 80% das vezes em que diz que os tomates não vão germinar e 90% das vezes em que diz que os tomates vão germinar. Os tomates não germinam em 10% das colheitas. Se Alberto anunciar a perda da colheita, qual é a probabilidade real de que eles não germinem?\n",
    "\n",
    "Resposta: 47,05%  \n",
    "obs.: resolva pela árvore e pela fórmula"
   ]
  },
  {
   "cell_type": "markdown",
   "id": "74653484",
   "metadata": {},
   "source": [
    "# Distribuições de Probabilidade\n",
    "\n"
   ]
  },
  {
   "cell_type": "markdown",
   "id": "a74905dd",
   "metadata": {},
   "source": [
    "## Exercícios\n",
    "\n",
    "__1)__ Em uma caixa há 7 bolas brancas, 4 pretas e 5 vermelhas. Retira-se 6 bolas com reposição. Calcule a probabilidade de que:\n",
    "\n",
    "__A)__ saiam 4 bolas vermelhas:\n",
    "\n",
    "__B)__ pelo menos 3 bolas brancas:\n",
    "\n",
    "__C)__ 1 ou 2 bolas pretas.\n",
    "\n",
    "\n",
    "__2)__ Em um livro de 800 páginas há 800 erros de impressão. Qual a probabilidade de que uma página contenha pelo menos 3 erros?\n",
    "\n",
    "__3)__ Numa criação de coelhos, 45% são machos. Qual a probabilidade de nascerem pelo menos 5 coelhos machos num dia em que nasceram 15 coelhos?\n",
    "\n",
    "\n",
    "__4)__ Numa estrada há 2 acidentes para cada 100 km. Qual a probabilidade de que em:\n",
    "\n",
    "__A)__ 250 km pelo menos 3 acidentes?\n",
    "\n",
    "__B)__ 300 km ocorram 5 acidentes?"
   ]
  },
  {
   "cell_type": "markdown",
   "id": "1e53a4fa",
   "metadata": {},
   "source": [
    "## Resolução\n",
    "\n",
    "1. "
   ]
  },
  {
   "cell_type": "code",
   "execution_count": null,
   "id": "655fe779",
   "metadata": {},
   "outputs": [],
   "source": [
    "from math import factorial\n",
    "\n",
    "\n",
    "def binomial(n, p, k):\n",
    "    C = (factorial(n) / (factorial(n - k) * factorial(k)))\n",
    "    return C * np.power(p, k) * np.power(1 - p, n - k)\n",
    "\n",
    "# numero de retiradas\n",
    "n = 6\n",
    "\n",
    "# numero de vermelhas\n",
    "k = 4\n",
    "\n",
    "# probabilidade de uma bola vermelha\n",
    "p = 5 / 16\n",
    "\n",
    "# print do resultado teorico\n",
    "print(\"A probabilidade será: \", np.round(binomial(n, p, k), 4))"
   ]
  },
  {
   "cell_type": "code",
   "execution_count": null,
   "id": "3cee864f",
   "metadata": {},
   "outputs": [],
   "source": [
    "# numero de retiradas\n",
    "n = 6\n",
    "\n",
    "# probabilidade de uma bola branca\n",
    "p = 7 / 16\n",
    "\n",
    "# calculando a probabilidade acumulativa\n",
    "prop = 0\n",
    "for k in range(3, 7):\n",
    "    prop += binomial(n, p, k)\n",
    "\n",
    "# PRint da probabilidade\n",
    "print(\"A probabilidade será: \", np.round(prop, 4))"
   ]
  },
  {
   "cell_type": "code",
   "execution_count": null,
   "id": "20904c0a",
   "metadata": {},
   "outputs": [],
   "source": [
    "# numero de retiradas\n",
    "n = 6\n",
    "\n",
    "# probabilidade de uma bola preta\n",
    "p = 4 / 16\n",
    "\n",
    "# calculando a probabilidade acumulativa\n",
    "prop = 0\n",
    "for k in range(1, 3):\n",
    "    prop += binomial(n, p, k)\n",
    "\n",
    "# PRint da probabilidade\n",
    "print(\"A probabilidade será: \", np.round(prop, 4))"
   ]
  },
  {
   "cell_type": "markdown",
   "id": "f026724e",
   "metadata": {},
   "source": [
    "2. "
   ]
  },
  {
   "cell_type": "code",
   "execution_count": null,
   "id": "57efe69d",
   "metadata": {},
   "outputs": [],
   "source": [
    "# Define o poisson\n",
    "def Poisson(lbd, k):\n",
    "    return np.exp(-lbd)*(lbd**k)/factorial(k)\n",
    "\n",
    "\n",
    "# lambda\n",
    "lbd = 800/800\n",
    "\n",
    "# zera a probabilidade\n",
    "prop = 0\n",
    "\n",
    "# loop para os casos\n",
    "for k in range(0, 3):\n",
    "    prop += Poisson(lbd, k)\n",
    "\n",
    "# print do resultado\n",
    "# Obs P(X >= 3) = 1 - P(X < 3) = 1 - [P(X = 0) + P(X = 1) + P(X = 2)]\n",
    "print(\"P(X >= 3) = \", 1-prop)"
   ]
  },
  {
   "cell_type": "markdown",
   "id": "d95b5363",
   "metadata": {},
   "source": [
    "3."
   ]
  },
  {
   "cell_type": "code",
   "execution_count": null,
   "id": "72feb1e2",
   "metadata": {},
   "outputs": [],
   "source": [
    "# numero de coelhos recem nascidos\n",
    "n = 15\n",
    "\n",
    "# probabilidade de macho\n",
    "p = 0.45\n",
    "\n",
    "# calculando a probabilidade acumulativa\n",
    "prop = 0\n",
    "for k in range(0, 5):\n",
    "    prop += binomial(n, p, k)\n",
    "\n",
    "# PRint da probabilidade\n",
    "# Obs: P(X >= 5) = 1 - P(X < 5) = 1 - [P(X = 0) + P(X = 1) + P(X = 2) + P(X = 3) + P(X = 4)]\n",
    "print(\"A probabilidade será: \", 1-prop)"
   ]
  },
  {
   "cell_type": "markdown",
   "id": "eaea1eba",
   "metadata": {},
   "source": [
    "4a"
   ]
  },
  {
   "cell_type": "code",
   "execution_count": null,
   "id": "f6713051",
   "metadata": {},
   "outputs": [],
   "source": [
    "# Distribuição de poisson\n",
    "\n",
    "lbd = 5  # taxa: 2 acidentes/ 100km Para 250km = 5 acidentes = 250*2/100\n",
    "\n",
    "# k >= 3   # evento - frequencia procurada\n",
    "# não pode acontecer \n",
    "\n",
    "rv = stats.poisson(lbd)\n",
    "rv.pmf(k)\n",
    "\n",
    "print(\"P(k >= 3) = \", 1 - (rv.pmf(0)+ rv.pmf(1)+rv.pmf(2)))"
   ]
  },
  {
   "cell_type": "markdown",
   "id": "6f8ef19e",
   "metadata": {},
   "source": [
    "4b"
   ]
  },
  {
   "cell_type": "code",
   "execution_count": null,
   "id": "c673cf56",
   "metadata": {},
   "outputs": [],
   "source": [
    "lbd = (300*2)/100\n",
    "\n",
    "k = 5\n",
    "rv = stats.poisson(lbd)\n",
    "rv.pmf(k)\n",
    "\n",
    "print(\"P(k = 5) = \", rv.pmf(5))"
   ]
  }
 ],
 "metadata": {
  "kernelspec": {
   "display_name": "Python 3 (ipykernel)",
   "language": "python",
   "name": "python3"
  },
  "language_info": {
   "codemirror_mode": {
    "name": "ipython",
    "version": 3
   },
   "file_extension": ".py",
   "mimetype": "text/x-python",
   "name": "python",
   "nbconvert_exporter": "python",
   "pygments_lexer": "ipython3",
   "version": "3.10.9"
  }
 },
 "nbformat": 4,
 "nbformat_minor": 5
}
