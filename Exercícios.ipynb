{
 "cells": [
  {
   "cell_type": "markdown",
   "id": "374bbb3a",
   "metadata": {},
   "source": [
    "# Exercícios\n",
    "\n",
    "\n",
    "Suponha que os pesos das sacas de soja de uma indústria alimentícia se distribuem aproximadamente como uma normal de desvio padrão populacional igual a 570 g. Selecionada uma amostra aleatória de 25 sacas de um lote específico, obteve-se um peso médio de 27.215 g. Construa um intervalo de confiança para a média populacional assumindo um nível de significância de 10%."
   ]
  },
  {
   "cell_type": "code",
   "execution_count": 7,
   "id": "0dbc2edd",
   "metadata": {},
   "outputs": [
    {
     "name": "stdout",
     "output_type": "stream",
     "text": [
      "Z-score:  1.6448536269514733\n",
      "\n",
      "Erro inferencial:  187.51331347246796\n",
      "\n",
      "Intervalo de confiança usando a fórmula (27027.486686527533, 27402.513313472467)\n",
      "\n",
      "Intervalo de confiança usando o Scipy:  (27027.486686527533, 27402.513313472467)\n"
     ]
    }
   ],
   "source": [
    "# Carregando as funções para distribuição normal do SciPy\n",
    "from scipy.stats import norm\n",
    "import numpy as np\n",
    "\n",
    "# Parâmetros\n",
    "X = 27215        # média amostral\n",
    "desvpad = 570    # desvio padrão populacional\n",
    "alpha = 0.10     # nível de significância\n",
    "conf = 1 - alpha # nível de confiança\n",
    "n = 25\n",
    "\n",
    "# Calculando a probabilidade\n",
    "prob = conf + (alpha/2)\n",
    "\n",
    "# Calculando o Z-score para a probabilidade\n",
    "z = norm.ppf(prob)\n",
    "print(\"Z-score: \", z)\n",
    "\n",
    "# Definindo o erro inferencial\n",
    "erro = (z * desvpad / np.sqrt(n))\n",
    "print(\"\\nErro inferencial: \", erro)\n",
    "\n",
    "# Definindo o intervalo de confiança\n",
    "print(\"\\nIntervalo de confiança usando a fórmula\", (X - erro, X + erro))\n",
    "\n",
    "print(\"\\nIntervalo de confiança usando o Scipy: \", norm.interval(conf, loc=X, scale=desvpad/np.sqrt(n)))"
   ]
  },
  {
   "cell_type": "code",
   "execution_count": null,
   "id": "5760721c",
   "metadata": {},
   "outputs": [],
   "source": []
  }
 ],
 "metadata": {
  "kernelspec": {
   "display_name": "Python 3 (ipykernel)",
   "language": "python",
   "name": "python3"
  },
  "language_info": {
   "codemirror_mode": {
    "name": "ipython",
    "version": 3
   },
   "file_extension": ".py",
   "mimetype": "text/x-python",
   "name": "python",
   "nbconvert_exporter": "python",
   "pygments_lexer": "ipython3",
   "version": "3.10.9"
  }
 },
 "nbformat": 4,
 "nbformat_minor": 5
}
